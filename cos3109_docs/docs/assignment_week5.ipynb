{
 "cells": [
  {
   "cell_type": "code",
   "execution_count": 3,
   "id": "dc05f164",
   "metadata": {},
   "outputs": [
    {
     "name": "stdout",
     "output_type": "stream",
     "text": [
      "Requirement already satisfied: reportlab in c:\\users\\anothai\\appdata\\local\\programs\\python\\python313\\lib\\site-packages (4.4.3)\n",
      "Requirement already satisfied: pillow>=9.0.0 in c:\\users\\anothai\\appdata\\local\\programs\\python\\python313\\lib\\site-packages (from reportlab) (11.1.0)\n",
      "Requirement already satisfied: charset-normalizer in c:\\users\\anothai\\appdata\\local\\programs\\python\\python313\\lib\\site-packages (from reportlab) (3.4.1)\n",
      "Note: you may need to restart the kernel to use updated packages.\n"
     ]
    },
    {
     "data": {
      "text/plain": [
       "'ML_Algorithms_Presentation.pdf'"
      ]
     },
     "execution_count": 3,
     "metadata": {},
     "output_type": "execute_result"
    }
   ],
   "source": [
    "%pip install reportlab\n",
    "\n",
    "from reportlab.lib.pagesizes import landscape, A4\n",
    "from reportlab.platypus import SimpleDocTemplate, Paragraph, Spacer, Table, TableStyle\n",
    "from reportlab.lib.styles import getSampleStyleSheet\n",
    "from reportlab.lib import colors\n",
    "\n",
    "# Create PDF file\n",
    "file_path = \"ML_Algorithms_Presentation.pdf\"  # Save to current directory\n",
    "doc = SimpleDocTemplate(file_path, pagesize=landscape(A4))\n",
    "\n",
    "# Styles\n",
    "styles = getSampleStyleSheet()\n",
    "title_style = styles[\"Title\"]\n",
    "heading_style = styles[\"Heading2\"]\n",
    "body_style = styles[\"BodyText\"]\n",
    "\n",
    "# Content for slides (each as a section)\n",
    "slides = []\n",
    "\n",
    "# Slide 1 – Title Page\n",
    "slides.append(Paragraph(\"Machine Learning Algorithms: Supervised, Unsupervised, Reinforcement\", title_style))\n",
    "slides.append(Spacer(1, 40))\n",
    "slides.append(Paragraph(\"รายชื่อสมาชิก / วิชา / อาจารย์ผู้สอน\", body_style))\n",
    "slides.append(Spacer(1, 60))\n",
    "\n",
    "# Slide 2 – Introduction\n",
    "slides.append(Paragraph(\"Introduction\", heading_style))\n",
    "slides.append(Paragraph(\"Machine Learning คืออะไร?\", body_style))\n",
    "slides.append(Paragraph(\"แบ่งออกเป็น 3 ประเภทหลัก: Supervised, Unsupervised, Reinforcement\", body_style))\n",
    "slides.append(Spacer(1, 20))\n",
    "\n",
    "# Slide 3 – Comparison Overview\n",
    "slides.append(Paragraph(\"Comparison Overview\", heading_style))\n",
    "data = [\n",
    "    [\"ประเภท\", \"ใช้ Label?\", \"จุดเด่น\", \"ตัวอย่างงาน\"],\n",
    "    [\"Supervised\", \"มี\", \"ทำนายผลลัพธ์\", \"Spam detection\"],\n",
    "    [\"Unsupervised\", \"ไม่มี\", \"หาความสัมพันธ์\", \"Customer segmentation\"],\n",
    "    [\"Reinforcement\", \"Reward/Penalty\", \"การตัดสินใจ\", \"หุ่นยนต์, เกม\"]\n",
    "]\n",
    "table = Table(data, hAlign='LEFT')\n",
    "table.setStyle(TableStyle([(\"BACKGROUND\", (0,0), (-1,0), colors.grey),\n",
    "                           (\"TEXTCOLOR\", (0,0), (-1,0), colors.whitesmoke),\n",
    "                           (\"ALIGN\", (0,0), (-1,-1), \"CENTER\"),\n",
    "                           (\"GRID\", (0,0), (-1,-1), 1, colors.black)]))\n",
    "slides.append(table)\n",
    "slides.append(Spacer(1, 20))\n",
    "\n",
    "# Slide 4 – Supervised Learning\n",
    "slides.append(Paragraph(\"Supervised Learning – Decision Tree\", heading_style))\n",
    "slides.append(Paragraph(\"หลักการ: ใช้ข้อมูลที่มี Label ในการเรียนรู้\", body_style))\n",
    "slides.append(Paragraph(\"ข้อดี: เข้าใจง่าย, ใช้ได้กับข้อมูลหลายแบบ\", body_style))\n",
    "slides.append(Paragraph(\"ข้อเสีย: มีโอกาส Overfitting ถ้าต้นไม้ซับซ้อนเกินไป\", body_style))\n",
    "slides.append(Spacer(1, 20))\n",
    "\n",
    "# Slide 5 – Example Supervised\n",
    "slides.append(Paragraph(\"Example – Spam Email Classification\", heading_style))\n",
    "slides.append(Paragraph(\"ตัวอย่าง feature: คำที่ใช้, sender, ความถี่\", body_style))\n",
    "slides.append(Spacer(1, 20))\n",
    "\n",
    "# Slide 6 – Unsupervised Learning\n",
    "slides.append(Paragraph(\"Unsupervised Learning – K-Means Clustering\", heading_style))\n",
    "slides.append(Paragraph(\"หลักการ: จัดกลุ่มข้อมูลโดยไม่ต้องมี Label\", body_style))\n",
    "slides.append(Paragraph(\"ข้อดี: เร็ว, ใช้ง่าย\", body_style))\n",
    "slides.append(Paragraph(\"ข้อเสีย: ต้องกำหนดจำนวน k, อ่อนไหวต่อ Outlier\", body_style))\n",
    "slides.append(Spacer(1, 20))\n",
    "\n",
    "# Slide 7 – Example Unsupervised\n",
    "slides.append(Paragraph(\"Example – Customer Segmentation\", heading_style))\n",
    "slides.append(Paragraph(\"ใช้จัดกลุ่มลูกค้าตามพฤติกรรมการซื้อ\", body_style))\n",
    "slides.append(Spacer(1, 20))\n",
    "\n",
    "# Slide 8 – Reinforcement Learning\n",
    "slides.append(Paragraph(\"Reinforcement Learning – Q-Learning\", heading_style))\n",
    "slides.append(Paragraph(\"หลักการ: Agent → Action → Reward\", body_style))\n",
    "slides.append(Paragraph(\"ข้อดี: ปรับตัวเองได้จาก feedback\", body_style))\n",
    "slides.append(Paragraph(\"ข้อเสีย: ต้องใช้เวลาฝึกนาน\", body_style))\n",
    "slides.append(Spacer(1, 20))\n",
    "\n",
    "# Slide 9 – Example Reinforcement\n",
    "slides.append(Paragraph(\"Example – Robot Learning to Walk\", heading_style))\n",
    "slides.append(Paragraph(\"Agent ทำ Action → Environment → Reward\", body_style))\n",
    "slides.append(Spacer(1, 20))\n",
    "\n",
    "# Slide 10 – Conclusion\n",
    "slides.append(Paragraph(\"Conclusion\", heading_style))\n",
    "slides.append(Paragraph(\"Supervised → ใช้ Label → ทำนายผลลัพธ์\", body_style))\n",
    "slides.append(Paragraph(\"Unsupervised → ไม่มี Label → จัดกลุ่ม/หาความสัมพันธ์\", body_style))\n",
    "slides.append(Paragraph(\"Reinforcement → เรียนรู้จาก Reward → การตัดสินใจเชิงลำดับ\", body_style))\n",
    "\n",
    "# Build PDF\n",
    "doc.build(slides)\n",
    "\n",
    "file_path\n"
   ]
  }
 ],
 "metadata": {
  "kernelspec": {
   "display_name": "Python 3",
   "language": "python",
   "name": "python3"
  },
  "language_info": {
   "codemirror_mode": {
    "name": "ipython",
    "version": 3
   },
   "file_extension": ".py",
   "mimetype": "text/x-python",
   "name": "python",
   "nbconvert_exporter": "python",
   "pygments_lexer": "ipython3",
   "version": "3.13.0"
  }
 },
 "nbformat": 4,
 "nbformat_minor": 5
}
