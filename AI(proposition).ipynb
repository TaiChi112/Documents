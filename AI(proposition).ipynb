{
  "nbformat": 4,
  "nbformat_minor": 0,
  "metadata": {
    "colab": {
      "provenance": [],
      "toc_visible": true,
      "authorship_tag": "ABX9TyMldpLWuKbIHyw46V8mgmNr",
      "include_colab_link": true
    },
    "kernelspec": {
      "name": "python3",
      "display_name": "Python 3"
    },
    "language_info": {
      "name": "python"
    }
  },
  "cells": [
    {
      "cell_type": "markdown",
      "metadata": {
        "id": "view-in-github",
        "colab_type": "text"
      },
      "source": [
        "<a href=\"https://colab.research.google.com/github/TaiChi112/Documents/blob/AI/AI(proposition).ipynb\" target=\"_parent\"><img src=\"https://colab.research.google.com/assets/colab-badge.svg\" alt=\"Open In Colab\"/></a>"
      ]
    },
    {
      "cell_type": "markdown",
      "source": [
        "#Equation"
      ],
      "metadata": {
        "id": "SZ4j3QRc7qSR"
      }
    },
    {
      "cell_type": "markdown",
      "source": [
        "## $$\n",
        "P(A=a \\mid b) \\;=\\; \\frac{P(a,b)}{P(b)} \\;=\\; \\frac{P(a,b)}{\\sum_{x \\in A} P(x,b)}\n",
        "$$"
      ],
      "metadata": {
        "id": "-PCEhENT81Fq"
      }
    },
    {
      "cell_type": "markdown",
      "source": [
        "# Breadth First Search"
      ],
      "metadata": {
        "id": "FPoh77vt7xTg"
      }
    },
    {
      "cell_type": "code",
      "source": [
        "from collections import deque, defaultdict\n",
        "G = defaultdict(list)\n",
        "G['A'] = ['C','B']; G['C'] = ['B','D']; G['B'] = ['D','G']; G['D'] = ['G']\n",
        "def bfs(s, t):\n",
        "    q = deque([s]); parent = {s: None}\n",
        "    while q:\n",
        "        u = q.popleft()\n",
        "        if u == t: break\n",
        "        for v in G[u]:\n",
        "            if v not in parent:\n",
        "                parent[v] = u; q.append(v)\n",
        "    path = []\n",
        "    if t in parent:\n",
        "        cur = t\n",
        "        while cur is not None: path.append(cur); cur = parent[cur]\n",
        "        path.reverse()\n",
        "    return path\n",
        "print(bfs('A','G'))  # ['A','B','G']\n"
      ],
      "metadata": {
        "colab": {
          "base_uri": "https://localhost:8080/"
        },
        "id": "rqHazZA58Fho",
        "outputId": "38552361-8e1e-4e66-ceaa-cc577efa8e11"
      },
      "execution_count": 2,
      "outputs": [
        {
          "output_type": "stream",
          "name": "stdout",
          "text": [
            "['A', 'B', 'G']\n"
          ]
        }
      ]
    },
    {
      "cell_type": "markdown",
      "source": [
        "# Depth First Search"
      ],
      "metadata": {
        "id": "NbdQ0rUG717F"
      }
    },
    {
      "cell_type": "code",
      "source": [
        "path = []\n",
        "def dfs(u, t, seen=set()):\n",
        "    if u==t: return [t]\n",
        "    seen.add(u)\n",
        "    for v in G[u]:\n",
        "        if v not in seen:\n",
        "            p = dfs(v,t,seen)\n",
        "            if p: return [u]+p\n",
        "    return []\n",
        "print(dfs('A','G',set()))  # ['A','C','D','G']\n"
      ],
      "metadata": {
        "colab": {
          "base_uri": "https://localhost:8080/"
        },
        "id": "VkXe6Vs-8Lb3",
        "outputId": "a0211b9f-ad3b-4b2d-88ef-a9afdde46729"
      },
      "execution_count": 3,
      "outputs": [
        {
          "output_type": "stream",
          "name": "stdout",
          "text": [
            "['A', 'C', 'B', 'D', 'G']\n"
          ]
        }
      ]
    },
    {
      "cell_type": "markdown",
      "source": [
        "# Uniform Cost Search"
      ],
      "metadata": {
        "id": "iKK__-el75iz"
      }
    },
    {
      "cell_type": "code",
      "source": [
        "import heapq\n",
        "W = {('A','C'):1, ('A','B'):3, ('C','B'):1, ('C','D'):3, ('B','D'):1, ('B','G'):3, ('D','G'):1}\n",
        "def ucs(s,t):\n",
        "    pq=[(0,s,None)]; best={s:0}; parent={}\n",
        "    while pq:\n",
        "        g,u,p = heapq.heappop(pq)\n",
        "        if u in parent:  # already finalized\n",
        "            continue\n",
        "        parent[u]=p\n",
        "        if u==t: break\n",
        "        for v in G[u]:\n",
        "            w=W[(u,v)]\n",
        "            if v not in best or g+w<best[v]:\n",
        "                best[v]=g+w\n",
        "                heapq.heappush(pq,(g+w,v,u))\n",
        "    # rebuild\n",
        "    path=[]; u=t\n",
        "    while u is not None: path.append(u); u=parent.get(u)\n",
        "    path.reverse()\n",
        "    return path, best[t]\n",
        "print(ucs('A','G'))  # (['A','C','B','D','G'], 4)\n"
      ],
      "metadata": {
        "colab": {
          "base_uri": "https://localhost:8080/"
        },
        "id": "_-TccK958PcM",
        "outputId": "63e3fb71-4cdb-4d89-adb3-66190a55a7e7"
      },
      "execution_count": 4,
      "outputs": [
        {
          "output_type": "stream",
          "name": "stdout",
          "text": [
            "(['A', 'C', 'B', 'D', 'G'], 4)\n"
          ]
        }
      ]
    },
    {
      "cell_type": "markdown",
      "source": [
        "# A* Search"
      ],
      "metadata": {
        "id": "N-pbKrE179IJ"
      }
    },
    {
      "cell_type": "code",
      "source": [
        "import heapq\n",
        "G = {'A':['C','B'],'C':['B','D'],'B':['D','G'],'D':['G'],'G':[]}\n",
        "W = {('A','C'):1,('A','B'):3,('C','B'):1,('C','D'):3,('B','D'):1,('B','G'):3,('D','G'):1}\n",
        "h = {'A':3,'B':2,'C':2,'D':1,'G':0}\n",
        "\n",
        "def astar(s,t):\n",
        "    pq=[(h[s],0,s,None)]  # (f,g,node,parent)\n",
        "    parent={}; best_g={s:0}\n",
        "    while pq:\n",
        "        f,g,u,p = heapq.heappop(pq)\n",
        "        if u in parent:   # closed\n",
        "            continue\n",
        "        parent[u]=p\n",
        "        if u==t: break\n",
        "        for v in G[u]:\n",
        "            g2 = g + W[(u,v)]\n",
        "            if v not in best_g or g2 < best_g[v]:\n",
        "                best_g[v] = g2\n",
        "                heapq.heappush(pq,(g2 + h[v], g2, v, u))\n",
        "    # rebuild path\n",
        "    path=[]; u=t\n",
        "    while u is not None: path.append(u); u=parent.get(u)\n",
        "    return path[::-1], best_g[t]\n",
        "\n",
        "print(astar('A','G'))  # (['A','C','B','D','G'], 4)\n"
      ],
      "metadata": {
        "colab": {
          "base_uri": "https://localhost:8080/"
        },
        "id": "nFwUqNpH9DC_",
        "outputId": "ee3f64d7-df3d-4d60-8f30-a26123dbeece"
      },
      "execution_count": 6,
      "outputs": [
        {
          "output_type": "stream",
          "name": "stdout",
          "text": [
            "(['A', 'C', 'B', 'D', 'G'], 4)\n"
          ]
        }
      ]
    }
  ]
}