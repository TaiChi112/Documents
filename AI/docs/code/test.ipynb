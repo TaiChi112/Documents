{
 "cells": [
  {
   "cell_type": "markdown",
   "id": "b3578d88",
   "metadata": {},
   "source": [
    "$$\n",
    "P(A=a \\mid b) \\;=\\; \\frac{P(a,b)}{P(b)} \\;=\\; \\frac{P(a,b)}{\\sum_{x \\in A} P(x,b)}\n",
    "$$"
   ]
  },
  {
   "cell_type": "code",
   "execution_count": null,
   "id": "6295341f",
   "metadata": {},
   "outputs": [],
   "source": [
    "from collections import deque, defaultdict\n",
    "G = defaultdict(list)\n",
    "G['A'] = ['C','B']; G['C'] = ['B','D']; G['B'] = ['D','G']; G['D'] = ['G']\n",
    "def bfs(s, t):\n",
    "    q = deque([s]); parent = {s: None}\n",
    "    while q:\n",
    "        u = q.popleft()\n",
    "        if u == t: break\n",
    "        for v in G[u]:\n",
    "            if v not in parent:\n",
    "                parent[v] = u; q.append(v)\n",
    "    path = []\n",
    "    if t in parent:\n",
    "        cur = t\n",
    "        while cur is not None: path.append(cur); cur = parent[cur]\n",
    "        path.reverse()\n",
    "    return path\n",
    "print(bfs('A','G'))  # ['A','B','G']"
   ]
  },
  {
   "cell_type": "code",
   "execution_count": null,
   "id": "5821464b",
   "metadata": {},
   "outputs": [],
   "source": [
    "path = []\n",
    "def dfs(u, t, seen=set()):\n",
    "    if u==t: return [t]\n",
    "    seen.add(u)\n",
    "    for v in G[u]:\n",
    "        if v not in seen:\n",
    "            p = dfs(v,t,seen)\n",
    "            if p: return [u]+p\n",
    "    return []\n",
    "print(dfs('A','G',set()))  # ['A','C','D','G']"
   ]
  },
  {
   "cell_type": "code",
   "execution_count": null,
   "id": "adb3e1c0",
   "metadata": {},
   "outputs": [],
   "source": [
    "import heapq\n",
    "W = {('A','C'):1, ('A','B'):3, ('C','B'):1, ('C','D'):3, ('B','D'):1, ('B','G'):3, ('D','G'):1}\n",
    "def ucs(s,t):\n",
    "    pq=[(0,s,None)]; best={s:0}; parent={}\n",
    "    while pq:\n",
    "        g,u,p = heapq.heappop(pq)\n",
    "        if u in parent:  # already finalized\n",
    "            continue\n",
    "        parent[u]=p\n",
    "        if u==t: break\n",
    "        for v in G[u]:\n",
    "            w=W[(u,v)]\n",
    "            if v not in best or g+w<best[v]:\n",
    "                best[v]=g+w\n",
    "                heapq.heappush(pq,(g+w,v,u))\n",
    "    # rebuild\n",
    "    path=[]; u=t\n",
    "    while u is not None: path.append(u); u=parent.get(u)\n",
    "    path.reverse()\n",
    "    return path, best[t]\n",
    "print(ucs('A','G'))  # (['A','C','B','D','G'], 4)"
   ]
  },
  {
   "cell_type": "code",
   "execution_count": null,
   "id": "3f3fcd76",
   "metadata": {},
   "outputs": [],
   "source": [
    "import heapq\n",
    "G = {'A':['C','B'],'C':['B','D'],'B':['D','G'],'D':['G'],'G':[]}\n",
    "W = {('A','C'):1,('A','B'):3,('C','B'):1,('C','D'):3,('B','D'):1,('B','G'):3,('D','G'):1}\n",
    "h = {'A':3,'B':2,'C':2,'D':1,'G':0}\n",
    "\n",
    "def astar(s,t):\n",
    "    pq=[(h[s],0,s,None)] \n",
    "    parent={}; best_g={s:0}\n",
    "    while pq:\n",
    "        f,g,u,p = heapq.heappop(pq)\n",
    "        if u in parent:   \n",
    "            continue\n",
    "        parent[u]=p\n",
    "        if u==t: break\n",
    "        for v in G[u]:\n",
    "            g2 = g + W[(u,v)]\n",
    "            if v not in best_g or g2 < best_g[v]:\n",
    "                best_g[v] = g2\n",
    "                heapq.heappush(pq,(g2 + h[v], g2, v, u))\n",
    "    # rebuild path\n",
    "    path=[]; u=t\n",
    "    while u is not None: path.append(u); u=parent.get(u)\n",
    "    return path[::-1], best_g[t]\n",
    "\n",
    "print(astar('A','G'))  # (['A','C','B','D','G'], 4)"
   ]
  }
 ],
 "metadata": {
  "language_info": {
   "name": "python"
  }
 },
 "nbformat": 4,
 "nbformat_minor": 5
}
