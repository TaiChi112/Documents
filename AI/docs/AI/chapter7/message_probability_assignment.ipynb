{
 "cells": [
  {
   "cell_type": "markdown",
   "id": "e008c688",
   "metadata": {},
   "source": [
    "# 📧 Assignment: คำนวณ Probability สำหรับ Message \"Buy, Cheap, Work & Free\"\n",
    "\n",
    "## 🎯 โจทย์\n",
    "จากตารางข้อมูลที่กำหนด ให้คำนวณ probability ว่า message ที่มีคำ **\"Buy, Cheap, Work & Free\"** จะเป็น **Spam** หรือ **No Spam**\n",
    "\n",
    "## 📊 ข้อมูลที่ใช้\n",
    "| คำ | Spam | No Spam |\n",
    "|-----|------|--------|\n",
    "| **Total** | 25 | 75 |\n",
    "| Buy | 20 | 5 |\n",
    "| Cheap | 15 | 10 |\n",
    "| Work | 5 | 30 |\n",
    "| Free | 20 | 7 |\n",
    "| **Buy, Cheap, Work, & Free** | ? | ? |"
   ]
  },
  {
   "cell_type": "markdown",
   "id": "2dc66e89",
   "metadata": {},
   "source": [
    "## 📚 1. การตั้งค่าข้อมูลและ Libraries"
   ]
  },
  {
   "cell_type": "code",
   "execution_count": 1,
   "id": "500f5f53",
   "metadata": {},
   "outputs": [
    {
     "name": "stdout",
     "output_type": "stream",
     "text": [
      "✅ Libraries loaded successfully!\n"
     ]
    }
   ],
   "source": [
    "import pandas as pd\n",
    "import numpy as np\n",
    "from fractions import Fraction\n",
    "\n",
    "print(\"✅ Libraries loaded successfully!\")"
   ]
  },
  {
   "cell_type": "markdown",
   "id": "3fd1a139",
   "metadata": {},
   "source": [
    "## 📊 2. การสร้างข้อมูลจากตาราง"
   ]
  },
  {
   "cell_type": "code",
   "execution_count": 2,
   "id": "1a98bf34",
   "metadata": {},
   "outputs": [
    {
     "name": "stdout",
     "output_type": "stream",
     "text": [
      "📊 ตารางข้อมูล:\n",
      " Word  Spam  No_Spam\n",
      "Total    25       75\n",
      "  Buy    20        5\n",
      "Cheap    15       10\n",
      " Work     5       30\n",
      " Free    20        7\n",
      "\n",
      "📈 ข้อมูลพื้นฐาน:\n",
      "   Spam emails: 25\n",
      "   No Spam emails: 75\n",
      "   Total emails: 100\n",
      "\n",
      "📝 คำศัพท์และความถี่:\n",
      " Word  Spam  No_Spam\n",
      "  Buy    20        5\n",
      "Cheap    15       10\n",
      " Work     5       30\n",
      " Free    20        7\n"
     ]
    }
   ],
   "source": [
    "# สร้างข้อมูลจากตารางที่กำหนด\n",
    "data = {\n",
    "    'Word': ['Total', 'Buy', 'Cheap', 'Work', 'Free'],\n",
    "    'Spam': [25, 20, 15, 5, 20],\n",
    "    'No_Spam': [75, 5, 10, 30, 7]\n",
    "}\n",
    "\n",
    "df = pd.DataFrame(data)\n",
    "print(\"📊 ตารางข้อมูล:\")\n",
    "print(df.to_string(index=False))\n",
    "\n",
    "# แยกข้อมูล Total และคำศัพท์\n",
    "total_row = df[df['Word'] == 'Total'].iloc[0]\n",
    "words_df = df[df['Word'] != 'Total'].reset_index(drop=True)\n",
    "\n",
    "print(f\"\\n📈 ข้อมูลพื้นฐาน:\")\n",
    "print(f\"   Spam emails: {total_row['Spam']}\")\n",
    "print(f\"   No Spam emails: {total_row['No_Spam']}\")\n",
    "print(f\"   Total emails: {total_row['Spam'] + total_row['No_Spam']}\")\n",
    "\n",
    "print(\"\\n📝 คำศัพท์และความถี่:\")\n",
    "print(words_df.to_string(index=False))"
   ]
  },
  {
   "cell_type": "markdown",
   "id": "fd325bf6",
   "metadata": {},
   "source": [
    "## 🧮 3. คำนวณ Prior Probability"
   ]
  },
  {
   "cell_type": "code",
   "execution_count": 3,
   "id": "e2b3d5e0",
   "metadata": {},
   "outputs": [
    {
     "name": "stdout",
     "output_type": "stream",
     "text": [
      "🎯 Prior Probabilities:\n",
      "P(Spam) = 25/100 = 0.2500\n",
      "P(No Spam) = 75/100 = 0.7500\n",
      "\n",
      "เศษส่วน:\n",
      "P(Spam) = 1/4\n",
      "P(No Spam) = 3/4\n"
     ]
    }
   ],
   "source": [
    "# คำนวณ Prior Probability\n",
    "total_emails = total_row['Spam'] + total_row['No_Spam']\n",
    "spam_emails = total_row['Spam']\n",
    "no_spam_emails = total_row['No_Spam']\n",
    "\n",
    "# P(Spam) และ P(No Spam)\n",
    "P_spam = spam_emails / total_emails\n",
    "P_no_spam = no_spam_emails / total_emails\n",
    "\n",
    "print(\"🎯 Prior Probabilities:\")\n",
    "print(f\"P(Spam) = {spam_emails}/{total_emails} = {P_spam:.4f}\")\n",
    "print(f\"P(No Spam) = {no_spam_emails}/{total_emails} = {P_no_spam:.4f}\")\n",
    "print(f\"\\nเศษส่วน:\")\n",
    "print(f\"P(Spam) = {Fraction(spam_emails, total_emails)}\")\n",
    "print(f\"P(No Spam) = {Fraction(no_spam_emails, total_emails)}\")"
   ]
  },
  {
   "cell_type": "markdown",
   "id": "e2f6e09b",
   "metadata": {},
   "source": [
    "## 📊 4. คำนวณ Conditional Probability สำหรับแต่ละคำ"
   ]
  },
  {
   "cell_type": "code",
   "execution_count": 4,
   "id": "b72225d4",
   "metadata": {},
   "outputs": [
    {
     "name": "stdout",
     "output_type": "stream",
     "text": [
      "📊 จำนวนคำทั้งหมดในแต่ละ class:\n",
      "Total words in Spam emails: 60\n",
      "Total words in No Spam emails: 52\n",
      "\n",
      "🧮 Conditional Probabilities สำหรับแต่ละคำ:\n",
      "================================================================================\n",
      "Word     Count(Spam)  Count(No Spam)  P(word|Spam)    P(word|No Spam)\n",
      "================================================================================\n",
      "Buy      20           5               0.333333        0.096154       \n",
      "Cheap    15           10              0.250000        0.192308       \n",
      "Work     5            30              0.083333        0.576923       \n",
      "Free     20           7               0.333333        0.134615       \n",
      "================================================================================\n"
     ]
    }
   ],
   "source": [
    "# คำนวณ total words ในแต่ละ class\n",
    "total_spam_words = words_df['Spam'].sum()\n",
    "total_no_spam_words = words_df['No_Spam'].sum()\n",
    "\n",
    "print(f\"📊 จำนวนคำทั้งหมดในแต่ละ class:\")\n",
    "print(f\"Total words in Spam emails: {total_spam_words}\")\n",
    "print(f\"Total words in No Spam emails: {total_no_spam_words}\")\n",
    "\n",
    "# คำนวณ conditional probability สำหรับแต่ละคำ\n",
    "print(\"\\n🧮 Conditional Probabilities สำหรับแต่ละคำ:\")\n",
    "print(\"=\" * 80)\n",
    "print(f\"{'Word':<8} {'Count(Spam)':<12} {'Count(No Spam)':<15} {'P(word|Spam)':<15} {'P(word|No Spam)':<15}\")\n",
    "print(\"=\" * 80)\n",
    "\n",
    "conditional_probs = {}\n",
    "target_words = ['Buy', 'Cheap', 'Work', 'Free']\n",
    "\n",
    "for _, row in words_df.iterrows():\n",
    "    word = row['Word']\n",
    "    spam_count = row['Spam']\n",
    "    no_spam_count = row['No_Spam']\n",
    "    \n",
    "    # P(word|Spam) และ P(word|No Spam)\n",
    "    p_word_given_spam = spam_count / total_spam_words\n",
    "    p_word_given_no_spam = no_spam_count / total_no_spam_words\n",
    "    \n",
    "    conditional_probs[word] = {\n",
    "        'spam_count': spam_count,\n",
    "        'no_spam_count': no_spam_count,\n",
    "        'p_word_given_spam': p_word_given_spam,\n",
    "        'p_word_given_no_spam': p_word_given_no_spam\n",
    "    }\n",
    "    \n",
    "    print(f\"{word:<8} {spam_count:<12} {no_spam_count:<15} {p_word_given_spam:<15.6f} {p_word_given_no_spam:<15.6f}\")\n",
    "\n",
    "print(\"=\" * 80)"
   ]
  },
  {
   "cell_type": "markdown",
   "id": "bdf82976",
   "metadata": {},
   "source": [
    "## 🎯 5. คำนวณ Probability สำหรับ Message \"Buy, Cheap, Work & Free\""
   ]
  },
  {
   "cell_type": "code",
   "execution_count": 5,
   "id": "72d61565",
   "metadata": {},
   "outputs": [
    {
     "name": "stdout",
     "output_type": "stream",
     "text": [
      "🎯 คำนวณ Probability สำหรับ Message: Buy, Cheap, Work, Free\n",
      "======================================================================\n",
      "\n",
      "📊 ขั้นตอนที่ 1: Prior Probabilities\n",
      "P(Spam) = 0.2500 = 1/4\n",
      "P(No Spam) = 0.7500 = 3/4\n",
      "\n",
      "📊 ขั้นตอนที่ 2: คำนวณ Likelihood สำหรับแต่ละคำ\n",
      "──────────────────────────────────────────────────────────────────────\n",
      "\n",
      "1. คำ 'Buy':\n",
      "   P(Buy|Spam) = 20/60 = 0.333333\n",
      "   P(Buy|No Spam) = 5/52 = 0.096154\n",
      "   Current P(Spam|message) ∝ 0.0833333333\n",
      "   Current P(No Spam|message) ∝ 0.0721153846\n",
      "\n",
      "2. คำ 'Cheap':\n",
      "   P(Cheap|Spam) = 15/60 = 0.250000\n",
      "   P(Cheap|No Spam) = 10/52 = 0.192308\n",
      "   Current P(Spam|message) ∝ 0.0208333333\n",
      "   Current P(No Spam|message) ∝ 0.0138683432\n",
      "\n",
      "3. คำ 'Work':\n",
      "   P(Work|Spam) = 5/60 = 0.083333\n",
      "   P(Work|No Spam) = 30/52 = 0.576923\n",
      "   Current P(Spam|message) ∝ 0.0017361111\n",
      "   Current P(No Spam|message) ∝ 0.0080009672\n",
      "\n",
      "4. คำ 'Free':\n",
      "   P(Free|Spam) = 20/60 = 0.333333\n",
      "   P(Free|No Spam) = 7/52 = 0.134615\n",
      "   Current P(Spam|message) ∝ 0.0005787037\n",
      "   Current P(No Spam|message) ∝ 0.0010770533\n",
      "\n",
      "📊 ขั้นตอนที่ 3: ผลลัพธ์ก่อน Normalize\n",
      "P(Spam|Buy,Cheap,Work,Free) ∝ 0.000578703704\n",
      "P(No Spam|Buy,Cheap,Work,Free) ∝ 0.001077053281\n"
     ]
    }
   ],
   "source": [
    "# Message ที่ต้องการคำนวณ\n",
    "message = ['Buy', 'Cheap', 'Work', 'Free']\n",
    "\n",
    "print(f\"🎯 คำนวณ Probability สำหรับ Message: {', '.join(message)}\")\n",
    "print(\"=\" * 70)\n",
    "\n",
    "# เริ่มต้นด้วย Prior Probability\n",
    "prob_spam = P_spam\n",
    "prob_no_spam = P_no_spam\n",
    "\n",
    "print(f\"\\n📊 ขั้นตอนที่ 1: Prior Probabilities\")\n",
    "print(f\"P(Spam) = {P_spam:.4f} = {Fraction(spam_emails, total_emails)}\")\n",
    "print(f\"P(No Spam) = {P_no_spam:.4f} = {Fraction(no_spam_emails, total_emails)}\")\n",
    "\n",
    "print(f\"\\n📊 ขั้นตอนที่ 2: คำนวณ Likelihood สำหรับแต่ละคำ\")\n",
    "print(\"─\" * 70)\n",
    "\n",
    "# คำนวณ likelihood สำหรับแต่ละคำ\n",
    "for i, word in enumerate(message, 1):\n",
    "    p_word_spam = conditional_probs[word]['p_word_given_spam']\n",
    "    p_word_no_spam = conditional_probs[word]['p_word_given_no_spam']\n",
    "    \n",
    "    spam_count = conditional_probs[word]['spam_count']\n",
    "    no_spam_count = conditional_probs[word]['no_spam_count']\n",
    "    \n",
    "    print(f\"\\n{i}. คำ '{word}':\")\n",
    "    print(f\"   P({word}|Spam) = {spam_count}/{total_spam_words} = {p_word_spam:.6f}\")\n",
    "    print(f\"   P({word}|No Spam) = {no_spam_count}/{total_no_spam_words} = {p_word_no_spam:.6f}\")\n",
    "    \n",
    "    # คูณเข้าไปใน probability\n",
    "    prob_spam *= p_word_spam\n",
    "    prob_no_spam *= p_word_no_spam\n",
    "    \n",
    "    print(f\"   Current P(Spam|message) ∝ {prob_spam:.10f}\")\n",
    "    print(f\"   Current P(No Spam|message) ∝ {prob_no_spam:.10f}\")\n",
    "\n",
    "print(f\"\\n📊 ขั้นตอนที่ 3: ผลลัพธ์ก่อน Normalize\")\n",
    "print(f\"P(Spam|Buy,Cheap,Work,Free) ∝ {prob_spam:.12f}\")\n",
    "print(f\"P(No Spam|Buy,Cheap,Work,Free) ∝ {prob_no_spam:.12f}\")"
   ]
  },
  {
   "cell_type": "markdown",
   "id": "c35c4c82",
   "metadata": {},
   "source": [
    "## 📈 6. Normalize Probabilities และสรุปผล"
   ]
  },
  {
   "cell_type": "code",
   "execution_count": 6,
   "id": "5868bb37",
   "metadata": {},
   "outputs": [
    {
     "name": "stdout",
     "output_type": "stream",
     "text": [
      "📊 ขั้นตอนที่ 4: Normalize Probabilities\n",
      "Total Probability = 0.000578703704 + 0.001077053281 = 0.001655756984\n",
      "\n",
      "Normalized Probabilities:\n",
      "P(Spam|message) = 0.000578703704 / 0.001655756984 = 0.349510\n",
      "P(No Spam|message) = 0.001077053281 / 0.001655756984 = 0.650490\n",
      "\n",
      "🎯 ผลลัพธ์สุดท้าย:\n",
      "==================================================\n",
      "P(Spam|Buy,Cheap,Work,Free) = 0.3495 (34.95%)\n",
      "P(No Spam|Buy,Cheap,Work,Free) = 0.6505 (65.05%)\n",
      "==================================================\n",
      "\n",
      "🎯 การทำนาย: No Spam\n",
      "🔥 ความมั่นใจ: 65.05%\n",
      "\n",
      "✅ Message นี้มีโอกาสเป็น NO SPAM สูงกว่า!\n",
      "\n",
      "✅ ตรวจสอบ: 1.000000 = 1.000000\n"
     ]
    }
   ],
   "source": [
    "# Normalize probabilities\n",
    "total_prob = prob_spam + prob_no_spam\n",
    "normalized_spam = prob_spam / total_prob\n",
    "normalized_no_spam = prob_no_spam / total_prob\n",
    "\n",
    "print(f\"📊 ขั้นตอนที่ 4: Normalize Probabilities\")\n",
    "print(f\"Total Probability = {prob_spam:.12f} + {prob_no_spam:.12f} = {total_prob:.12f}\")\n",
    "print(f\"\\nNormalized Probabilities:\")\n",
    "print(f\"P(Spam|message) = {prob_spam:.12f} / {total_prob:.12f} = {normalized_spam:.6f}\")\n",
    "print(f\"P(No Spam|message) = {prob_no_spam:.12f} / {total_prob:.12f} = {normalized_no_spam:.6f}\")\n",
    "\n",
    "# แสดงเป็นเปอร์เซ็นต์\n",
    "print(f\"\\n🎯 ผลลัพธ์สุดท้าย:\")\n",
    "print(\"=\" * 50)\n",
    "print(f\"P(Spam|Buy,Cheap,Work,Free) = {normalized_spam:.4f} ({normalized_spam*100:.2f}%)\")\n",
    "print(f\"P(No Spam|Buy,Cheap,Work,Free) = {normalized_no_spam:.4f} ({normalized_no_spam*100:.2f}%)\")\n",
    "print(\"=\" * 50)\n",
    "\n",
    "# การตัดสินใจ\n",
    "prediction = 'Spam' if normalized_spam > normalized_no_spam else 'No Spam'\n",
    "confidence = max(normalized_spam, normalized_no_spam)\n",
    "\n",
    "print(f\"\\n🎯 การทำนาย: {prediction}\")\n",
    "print(f\"🔥 ความมั่นใจ: {confidence*100:.2f}%\")\n",
    "\n",
    "if prediction == 'Spam':\n",
    "    print(f\"\\n🚨 Message นี้มีโอกาสเป็น SPAM สูงกว่า!\")\n",
    "else:\n",
    "    print(f\"\\n✅ Message นี้มีโอกาสเป็น NO SPAM สูงกว่า!\")\n",
    "\n",
    "print(f\"\\n✅ ตรวจสอบ: {normalized_spam + normalized_no_spam:.6f} = 1.000000\")"
   ]
  },
  {
   "cell_type": "markdown",
   "id": "3a661737",
   "metadata": {},
   "source": [
    "## 🧮 7. แสดงสูตรการคำนวณ"
   ]
  },
  {
   "cell_type": "code",
   "execution_count": 7,
   "id": "16a53c87",
   "metadata": {},
   "outputs": [
    {
     "name": "stdout",
     "output_type": "stream",
     "text": [
      "📚 สูตร Naive Bayes ที่ใช้:\n",
      "============================================================\n",
      "P(Class|Message) = P(Class) × ∏P(word|Class)\n",
      "\n",
      "สำหรับ Message = {Buy, Cheap, Work, Free}:\n",
      "\n",
      "P(Spam|Message) = P(Spam) × P(Buy|Spam) × P(Cheap|Spam) × P(Work|Spam) × P(Free|Spam)\n",
      "P(No Spam|Message) = P(No Spam) × P(Buy|No Spam) × P(Cheap|No Spam) × P(Work|No Spam) × P(Free|No Spam)\n",
      "\n",
      "🔢 การแทนค่าจริง:\n",
      "────────────────────────────────────────────────────────────\n",
      "P(Spam|Message) = 0.2500 × 0.333333 × 0.250000 × 0.083333 × 0.333333 = 0.000578703704\n",
      "P(No Spam|Message) = 0.7500 × 0.096154 × 0.192308 × 0.576923 × 0.134615 = 0.001077053281\n",
      "\n",
      "🎯 หลังจาก Normalize:\n",
      "P(Spam|Message) = 0.349510\n",
      "P(No Spam|Message) = 0.650490\n"
     ]
    }
   ],
   "source": [
    "print(\"📚 สูตร Naive Bayes ที่ใช้:\")\n",
    "print(\"=\" * 60)\n",
    "print(\"P(Class|Message) = P(Class) × ∏P(word|Class)\")\n",
    "print(\"\")\n",
    "print(\"สำหรับ Message = {Buy, Cheap, Work, Free}:\")\n",
    "print(\"\")\n",
    "print(\"P(Spam|Message) = P(Spam) × P(Buy|Spam) × P(Cheap|Spam) × P(Work|Spam) × P(Free|Spam)\")\n",
    "print(\"P(No Spam|Message) = P(No Spam) × P(Buy|No Spam) × P(Cheap|No Spam) × P(Work|No Spam) × P(Free|No Spam)\")\n",
    "\n",
    "print(\"\\n🔢 การแทนค่าจริง:\")\n",
    "print(\"─\" * 60)\n",
    "\n",
    "# สร้างสูตรแทนค่าจริง\n",
    "spam_formula = f\"P(Spam|Message) = {P_spam:.4f}\"\n",
    "no_spam_formula = f\"P(No Spam|Message) = {P_no_spam:.4f}\"\n",
    "\n",
    "for word in message:\n",
    "    p_word_spam = conditional_probs[word]['p_word_given_spam']\n",
    "    p_word_no_spam = conditional_probs[word]['p_word_given_no_spam']\n",
    "    spam_formula += f\" × {p_word_spam:.6f}\"\n",
    "    no_spam_formula += f\" × {p_word_no_spam:.6f}\"\n",
    "\n",
    "spam_formula += f\" = {prob_spam:.12f}\"\n",
    "no_spam_formula += f\" = {prob_no_spam:.12f}\"\n",
    "\n",
    "print(spam_formula)\n",
    "print(no_spam_formula)\n",
    "\n",
    "print(\"\\n🎯 หลังจาก Normalize:\")\n",
    "print(f\"P(Spam|Message) = {normalized_spam:.6f}\")\n",
    "print(f\"P(No Spam|Message) = {normalized_no_spam:.6f}\")"
   ]
  },
  {
   "cell_type": "markdown",
   "id": "e8be2dca",
   "metadata": {},
   "source": [
    "## 📊 8. สรุปตารางผลลัพธ์"
   ]
  },
  {
   "cell_type": "code",
   "execution_count": 8,
   "id": "f7ae6ef3",
   "metadata": {},
   "outputs": [
    {
     "name": "stdout",
     "output_type": "stream",
     "text": [
      "📊 ตารางสรุปผลลัพธ์:\n",
      "==================================================\n",
      "                    Word   Spam No_Spam\n",
      "                   Total     25      75\n",
      "                     Buy     20       5\n",
      "                   Cheap     15      10\n",
      "                    Work      5      30\n",
      "                    Free     20       7\n",
      "Buy, Cheap, Work, & Free 0.3495  0.6505\n",
      "==================================================\n",
      "\n",
      "🎯 คำตอบ Assignment:\n",
      "   Message 'Buy, Cheap, Work & Free'\n",
      "   → Spam Probability: 0.3495 (34.95%)\n",
      "   → No Spam Probability: 0.6505 (65.05%)\n",
      "   → การทำนาย: No Spam\n",
      "\n",
      "==================================================\n",
      "✅ Assignment เสร็จสมบูรณ์!\n",
      "==================================================\n"
     ]
    }
   ],
   "source": [
    "# สร้างตารางสรุป\n",
    "summary_data = {\n",
    "    'Word': ['Total'] + message + ['Buy, Cheap, Work, & Free'],\n",
    "    'Spam': [25, 20, 15, 5, 20, f'{normalized_spam:.4f}'],\n",
    "    'No_Spam': [75, 5, 10, 30, 7, f'{normalized_no_spam:.4f}']\n",
    "}\n",
    "\n",
    "summary_df = pd.DataFrame(summary_data)\n",
    "print(\"📊 ตารางสรุปผลลัพธ์:\")\n",
    "print(\"=\" * 50)\n",
    "print(summary_df.to_string(index=False))\n",
    "print(\"=\" * 50)\n",
    "\n",
    "print(f\"\\n🎯 คำตอบ Assignment:\")\n",
    "print(f\"   Message 'Buy, Cheap, Work & Free'\")\n",
    "print(f\"   → Spam Probability: {normalized_spam:.4f} ({normalized_spam*100:.2f}%)\")\n",
    "print(f\"   → No Spam Probability: {normalized_no_spam:.4f} ({normalized_no_spam*100:.2f}%)\")\n",
    "print(f\"   → การทำนาย: {prediction}\")\n",
    "\n",
    "print(\"\\n\" + \"=\" * 50)\n",
    "print(\"✅ Assignment เสร็จสมบูรณ์!\")\n",
    "print(\"=\" * 50)"
   ]
  }
 ],
 "metadata": {
  "kernelspec": {
   "display_name": "Python 3",
   "language": "python",
   "name": "python3"
  },
  "language_info": {
   "codemirror_mode": {
    "name": "ipython",
    "version": 3
   },
   "file_extension": ".py",
   "mimetype": "text/x-python",
   "name": "python",
   "nbconvert_exporter": "python",
   "pygments_lexer": "ipython3",
   "version": "3.13.0"
  }
 },
 "nbformat": 4,
 "nbformat_minor": 5
}
